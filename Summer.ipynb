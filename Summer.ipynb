{
 "cells": [
  {
   "cell_type": "code",
   "execution_count": 71,
   "metadata": {},
   "outputs": [
    {
     "name": "stdout",
     "output_type": "stream",
     "text": [
      "       Year    City     Sport Discipline                        Athlete  \\\n",
      "378    1900   Paris  Football   Football              DELBECQUE, Albert   \n",
      "379    1900   Paris  Football   Football                    KELECOM, R.   \n",
      "380    1900   Paris  Football   Football               LEBOUTTE, Marcel   \n",
      "381    1900   Paris  Football   Football                         LONDOT   \n",
      "382    1900   Paris  Football   Football                 MOREAU, Ernest   \n",
      "...     ...     ...       ...        ...                            ...   \n",
      "30297  2012  London  Football   Football        STEWART, Chelsea Blaine   \n",
      "30298  2012  London  Football   Football  TANCREDI, Melissa Palma Julie   \n",
      "30299  2012  London  Football   Football         TIMKO, Brittany Amanda   \n",
      "30300  2012  London  Football   Football        WILKINSON, Rhian Emilie   \n",
      "30301  2012  London  Football   Football             ZURRER, Emily Jane   \n",
      "\n",
      "      Country Gender     Event   Medal  \n",
      "378       BEL    Men  Football  Bronze  \n",
      "379       BEL    Men  Football  Bronze  \n",
      "380       BEL    Men  Football  Bronze  \n",
      "381       BEL    Men  Football  Bronze  \n",
      "382       BEL    Men  Football  Bronze  \n",
      "...       ...    ...       ...     ...  \n",
      "30297     CAN  Women  Football  Bronze  \n",
      "30298     CAN  Women  Football  Bronze  \n",
      "30299     CAN  Women  Football  Bronze  \n",
      "30300     CAN  Women  Football  Bronze  \n",
      "30301     CAN  Women  Football  Bronze  \n",
      "\n",
      "[1497 rows x 9 columns]\n"
     ]
    }
   ],
   "source": [
    "import pandas as pd\n",
    "df = pd.read_csv(\"summer.csv\")\n",
    "df.head(20)"
   ]
  },
  {
   "cell_type": "markdown",
   "metadata": {},
   "source": [
    "# Summer Olympics Data Analysis Assignment"
   ]
  },
  {
   "cell_type": "markdown",
   "metadata": {},
   "source": [
    "### 1. In how many cities Summer Olympics is held so far?"
   ]
  },
  {
   "cell_type": "code",
   "execution_count": 55,
   "metadata": {},
   "outputs": [
    {
     "name": "stdout",
     "output_type": "stream",
     "text": [
      "22\n"
     ]
    }
   ],
   "source": [
    "print(len(df['City'].unique()))"
   ]
  },
  {
   "cell_type": "markdown",
   "metadata": {},
   "source": [
    "### 2. Which sport is having most number of Gold Medals so far? (Top 5)"
   ]
  },
  {
   "cell_type": "code",
   "execution_count": 56,
   "metadata": {},
   "outputs": [],
   "source": [
    "gk = df[df['Medal']=='Gold']\n",
    "#print(gk)\n",
    "data =[]\n",
    "for event in gk['Sport'].unique():\n",
    "    data.append([event,len(gk[gk['Sport']==event])])"
   ]
  },
  {
   "cell_type": "code",
   "execution_count": 57,
   "metadata": {},
   "outputs": [
    {
     "name": "stdout",
     "output_type": "stream",
     "text": [
      "         Sport  Gold Medals\n",
      "0     Aquatics         1421\n",
      "1    Athletics         1215\n",
      "17      Rowing          890\n",
      "4   Gymnastics          820\n",
      "3      Fencing          552\n"
     ]
    }
   ],
   "source": [
    "dataframe = pd.DataFrame(data,columns = ['Sport','Gold Medals'])\n",
    "print(dataframe.sort_values(by='Gold Medals',ascending=False).head())"
   ]
  },
  {
   "cell_type": "markdown",
   "metadata": {},
   "source": [
    "### 3. Which sport is having most number of medals so far? (Top 5)"
   ]
  },
  {
   "cell_type": "code",
   "execution_count": 58,
   "metadata": {},
   "outputs": [],
   "source": [
    "data =[]\n",
    "for event in df['Sport'].unique():\n",
    "    data.append([event,len(df[df['Sport']==event])])"
   ]
  },
  {
   "cell_type": "code",
   "execution_count": 59,
   "metadata": {},
   "outputs": [
    {
     "name": "stdout",
     "output_type": "stream",
     "text": [
      "         Sport  Medals\n",
      "0     Aquatics    4170\n",
      "1    Athletics    3638\n",
      "17      Rowing    2667\n",
      "4   Gymnastics    2307\n",
      "3      Fencing    1613\n"
     ]
    }
   ],
   "source": [
    "dataframe = pd.DataFrame(data,columns = ['Sport','Medals'])\n",
    "print(dataframe.sort_values(by='Medals',ascending=False).head())"
   ]
  },
  {
   "cell_type": "markdown",
   "metadata": {},
   "source": [
    "### 4. Which player has won most number of medals? (Top 5)"
   ]
  },
  {
   "cell_type": "code",
   "execution_count": 60,
   "metadata": {},
   "outputs": [],
   "source": [
    "data =[]\n",
    "for athlete in df['Athlete'].unique():\n",
    "    data.append([athlete,len(df[df['Athlete']==athlete])])\n",
    "#print(data)"
   ]
  },
  {
   "cell_type": "code",
   "execution_count": 61,
   "metadata": {},
   "outputs": [
    {
     "name": "stdout",
     "output_type": "stream",
     "text": [
      "                    Athlete  Medals\n",
      "18640       PHELPS, Michael      22\n",
      "7197       LATYNINA, Larisa      18\n",
      "9948     ANDRIANOV, Nikolay      15\n",
      "6591           ONO, Takashi      13\n",
      "5103   MANGIAROTTI, Edoardo      13\n"
     ]
    }
   ],
   "source": [
    "dataframe = pd.DataFrame(data,columns = ['Athlete','Medals'])\n",
    "print(dataframe.sort_values(by='Medals',ascending=False).head())"
   ]
  },
  {
   "cell_type": "markdown",
   "metadata": {},
   "source": [
    "### 5. Which player has won most number Gold Medals of medals? (Top 5)"
   ]
  },
  {
   "cell_type": "code",
   "execution_count": 62,
   "metadata": {
    "scrolled": true
   },
   "outputs": [],
   "source": [
    "gk = df[df['Medal']=='Gold']\n",
    "#print(gk)\n",
    "data =[]\n",
    "for athlete in gk['Athlete'].unique():\n",
    "    data.append([athlete,len(gk[gk['Athlete']==athlete])])\n"
   ]
  },
  {
   "cell_type": "code",
   "execution_count": 63,
   "metadata": {},
   "outputs": [
    {
     "name": "stdout",
     "output_type": "stream",
     "text": [
      "               Athlete  Gold Medals\n",
      "6851   PHELPS, Michael           18\n",
      "3320       SPITZ, Mark            9\n",
      "2714  LATYNINA, Larisa            9\n",
      "4630       LEWIS, Carl            9\n",
      "907       NURMI, Paavo            9\n"
     ]
    }
   ],
   "source": [
    "dataframe = pd.DataFrame(data,columns = ['Athlete','Gold Medals'])\n",
    "print(dataframe.sort_values(by='Gold Medals',ascending=False).head())"
   ]
  },
  {
   "cell_type": "markdown",
   "metadata": {},
   "source": [
    "### 6. In which year India won first Gold Medal in Summer Olympics?"
   ]
  },
  {
   "cell_type": "code",
   "execution_count": 64,
   "metadata": {},
   "outputs": [
    {
     "data": {
      "text/plain": [
       "1928"
      ]
     },
     "execution_count": 64,
     "metadata": {},
     "output_type": "execute_result"
    }
   ],
   "source": [
    "gk = df.groupby(['Country','Medal'])\n",
    "gk.get_group(('IND','Gold'))['Year'].min()\n"
   ]
  },
  {
   "cell_type": "markdown",
   "metadata": {},
   "source": [
    "### 7. Which event is most popular in terms on number of players? (Top 5)"
   ]
  },
  {
   "cell_type": "code",
   "execution_count": 65,
   "metadata": {},
   "outputs": [],
   "source": [
    "data =[]\n",
    "for event in df['Event'].unique():\n",
    "    data.append([event,len(df[df['Event']==event])])"
   ]
  },
  {
   "cell_type": "code",
   "execution_count": 66,
   "metadata": {},
   "outputs": [
    {
     "name": "stdout",
     "output_type": "stream",
     "text": [
      "                Event  Athelete\n",
      "80           Football      1497\n",
      "176            Hockey      1422\n",
      "138  Team Competition      1147\n",
      "327        Basketball      1012\n",
      "337          Handball       973\n"
     ]
    }
   ],
   "source": [
    "dataframe = pd.DataFrame(data,columns = ['Event','Athelete'])\n",
    "print(dataframe.sort_values(by='Athelete',ascending=False).head())"
   ]
  },
  {
   "cell_type": "markdown",
   "metadata": {},
   "source": [
    "### 8. Which sport is having most female Gold Medalists? (Top 5)"
   ]
  },
  {
   "cell_type": "code",
   "execution_count": 67,
   "metadata": {},
   "outputs": [],
   "source": [
    "gk = df[df['Medal']=='Gold']\n",
    "fg = gk[gk['Gender'] == 'Women']"
   ]
  },
  {
   "cell_type": "code",
   "execution_count": 68,
   "metadata": {},
   "outputs": [],
   "source": [
    "data =[]\n",
    "for event in fg['Sport'].unique():\n",
    "    data.append([event,len(fg[fg['Sport']==event])])"
   ]
  },
  {
   "cell_type": "code",
   "execution_count": 69,
   "metadata": {},
   "outputs": [
    {
     "name": "stdout",
     "output_type": "stream",
     "text": [
      "         Sport  Female Gold Medals\n",
      "4     Aquatics                 589\n",
      "7    Athletics                 389\n",
      "8   Gymnastics                 268\n",
      "14      Rowing                 217\n",
      "11  Volleyball                 166\n"
     ]
    }
   ],
   "source": [
    "dataframe = pd.DataFrame(data,columns = ['Sport','Female Gold Medals'])\n",
    "print(dataframe.sort_values(by='Female Gold Medals',ascending=False).head())"
   ]
  }
 ],
 "metadata": {
  "kernelspec": {
   "display_name": "Python 3",
   "language": "python",
   "name": "python3"
  },
  "language_info": {
   "codemirror_mode": {
    "name": "ipython",
    "version": 3
   },
   "file_extension": ".py",
   "mimetype": "text/x-python",
   "name": "python",
   "nbconvert_exporter": "python",
   "pygments_lexer": "ipython3",
   "version": "3.8.5"
  }
 },
 "nbformat": 4,
 "nbformat_minor": 2
}
